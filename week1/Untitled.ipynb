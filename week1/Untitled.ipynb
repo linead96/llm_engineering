{
 "cells": [
  {
   "cell_type": "markdown",
   "id": "953d7f76-50ad-4d87-8fa4-3f29b6079aad",
   "metadata": {},
   "source": [
    "##### Week 1 exercise"
   ]
  },
  {
   "cell_type": "code",
   "execution_count": 2,
   "id": "d2d65b8b-2d39-47d6-8b1c-158dc9d08cbd",
   "metadata": {},
   "outputs": [],
   "source": [
    "# imports\n",
    "\n",
    "from dotenv import load_dotenv\n",
    "from IPython.display import Markdown, display, update_display\n",
    "from openai import OpenAI\n",
    "i"
   ]
  },
  {
   "cell_type": "code",
   "execution_count": null,
   "id": "2c4cecd1-68ee-44cf-809c-24ea7500df58",
   "metadata": {},
   "outputs": [],
   "source": []
  }
 ],
 "metadata": {
  "kernelspec": {
   "display_name": "Python 3 (ipykernel)",
   "language": "python",
   "name": "python3"
  },
  "language_info": {
   "codemirror_mode": {
    "name": "ipython",
    "version": 3
   },
   "file_extension": ".py",
   "mimetype": "text/x-python",
   "name": "python",
   "nbconvert_exporter": "python",
   "pygments_lexer": "ipython3",
   "version": "3.11.13"
  }
 },
 "nbformat": 4,
 "nbformat_minor": 5
}
