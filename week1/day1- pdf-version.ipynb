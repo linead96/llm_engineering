{
 "cells": [
  {
   "cell_type": "markdown",
   "id": "d15d8294-3328-4e07-ad16-8a03e9bbfdb9",
   "metadata": {},
   "source": [
    "# Instant Gratification!\n",
    "\n",
    "Let's build a useful LLM solution - in a matter of minutes.\n",
    "\n",
    "By the end of this course, you will have built an autonomous Agentic AI solution with 7 agents that collaborate to solve a business problem. All in good time! We will start with something smaller...\n",
    "\n",
    "Our goal is to code a new kind of Web Browser. Give it a URL, and it will respond with a summary. The Reader's Digest of the internet!!\n",
    "\n",
    "Before starting, be sure to have followed the instructions in the \"README\" file, including creating your API key with OpenAI and adding it to the `.env` file.\n",
    "\n",
    "## If you're new to Jupyter Lab\n",
    "\n",
    "Welcome to the wonderful world of Data Science experimentation! Once you've used Jupyter Lab, you'll wonder how you ever lived without it. Simply click in each \"cell\" with code in it, such as the cell immediately below this text, and hit Shift+Return to execute that cell. As you wish, you can add a cell with the + button in the toolbar, and print values of variables, or try out variations.\n",
    "\n",
    "If you need to start a 'notebook' again, go to Kernel menu >> Restart kernel.\n",
    "\n",
    "## I am here to help\n",
    "\n",
    "If you have any problems at all, please do reach out.  \n",
    "I'm available through the platform, or at ed@edwarddonner.com, or at https://www.linkedin.com/in/eddonner/ if you'd like to connect.\n",
    "\n",
    "## More troubleshooting\n",
    "\n",
    "Please see the [troubleshooting](troubleshooting.ipynb) notebook in this folder for more ideas!\n",
    "\n",
    "## Business value of these exercises\n",
    "\n",
    "A final thought. While I've designed these notebooks to be educational, I've also tried to make them enjoyable. We'll do fun things like have LLMs tell jokes and argue with each other. But fundamentally, my goal is to teach skills you can apply in business. I'll explain business implications as we go, and it's worth keeping this in mind: as you build experience with models and techniques, think of ways you could put this into action at work today. Please do contact me if you'd like to discuss more or if you have ideas to bounce off me."
   ]
  },
  {
   "cell_type": "code",
   "execution_count": 1,
   "id": "4e2a9393-7767-488e-a8bf-27c12dca35bd",
   "metadata": {},
   "outputs": [],
   "source": [
    "# imports\n",
    "\n",
    "import os\n",
    "import requests\n",
    "import fitz  # PyMuPDF\n",
    "\n",
    "from dotenv import load_dotenv\n",
    "from bs4 import BeautifulSoup\n",
    "from IPython.display import Markdown, display\n",
    "from openai import OpenAI"
   ]
  },
  {
   "cell_type": "markdown",
   "id": "6900b2a8-6384-4316-8aaa-5e519fca4254",
   "metadata": {},
   "source": [
    "# Connecting to OpenAI\n",
    "\n",
    "The next cell is where we load in the environment variables in your `.env` file and connect to OpenAI.\n",
    "\n",
    "## Troubleshooting if you have problems:\n",
    "\n",
    "1. OpenAI takes a few minutes to register after you set up an account. If you receive an error about being over quota, try waiting a few minutes and try again.\n",
    "2. Also, double check you have the right kind of API token with the right permissions. You should find it on [this webpage](https://platform.openai.com/api-keys) and it should show with Permissions of \"All\". If not, try creating another key by:\n",
    "- Pressing \"Create new secret key\" on the top right\n",
    "- Select **Owned by:** you, **Project:** Default project, **Permissions:** All\n",
    "- Click Create secret key, and use that new key in the code and the `.env` file (it might take a few minutes to activate)\n",
    "- Do a Kernel >> Restart kernel, and execute the cells in this Jupyter lab starting at the top\n",
    "4. As a fallback, replace the line `openai = OpenAI()` with `openai = OpenAI(api_key=\"your-key-here\")` - while it's not recommended to hard code tokens in Jupyter lab, because then you can't share your lab with others, it's a workaround for now\n",
    "5. See the [troubleshooting](troubleshooting.ipynb) notebook in this folder for more instructions\n",
    "6. Contact me! Message me or email ed@edwarddonner.com and we will get this to work.\n",
    "\n",
    "Any concerns about API costs? See my notes in the README - costs should be minimal, and you can control it at every point."
   ]
  },
  {
   "cell_type": "code",
   "execution_count": 2,
   "id": "7b87cadb-d513-4303-baee-a37b6f938e4d",
   "metadata": {},
   "outputs": [],
   "source": [
    "# Load environment variables in a file called .env\n",
    "\n",
    "load_dotenv()\n",
    "os.environ['OPENAI_API_KEY'] = os.getenv('OPENAI_API_KEY', 'your-key-if-not-using-env')\n",
    "openai = OpenAI()\n",
    "\n",
    "# Uncomment the below line if this gives you any problems:\n",
    "# openai = OpenAI(api_key=\"your-key-here\")"
   ]
  },
  {
   "cell_type": "code",
   "execution_count": 16,
   "id": "d408c405-3992-428b-813d-5120d5fceb82",
   "metadata": {},
   "outputs": [],
   "source": [
    "def extract_text_from_pdf(pdf_path):\n",
    "    # Open the PDF file\n",
    "    pdf_document = fitz.open(pdf_path)\n",
    "    extracted_text = \"\"\n",
    "    \n",
    "    # Iterate over each page and collect text\n",
    "    for page_num in range(pdf_document.page_count):\n",
    "        page = pdf_document[page_num]\n",
    "        text = page.get_text(\"text\")  # Extract text from the page\n",
    "        extracted_text += f\"--- Page {page_num + 1} ---\\n\"\n",
    "        extracted_text += text + \"\\n\\n\"\n",
    "    \n",
    "    pdf_document.close()\n",
    "    return extracted_text\n",
    "\n",
    "# # Usage example\n",
    "# pdf_path = \"C:\\\\Users\\\\Daniel\\\\Desktop\\\\Study\\\\llm_engineering\\\\input\\\\input.pdf\"  # Path to your PDF file\n",
    "# text_content = extract_text_from_pdf(pdf_path)\n",
    "# print(text_content)  # This will print the extracted text\n"
   ]
  },
  {
   "cell_type": "markdown",
   "id": "6a478a0c-2c53-48ff-869c-4d08199931e1",
   "metadata": {},
   "source": [
    "## Types of prompts\n",
    "\n",
    "You may know this already - but if not, you will get very familiar with it!\n",
    "\n",
    "Models like GPT4o have been trained to receive instructions in a particular way.\n",
    "\n",
    "They expect to receive:\n",
    "\n",
    "**A system prompt** that tells them what task they are performing and what tone they should use\n",
    "\n",
    "**A user prompt** -- the conversation starter that they should reply to"
   ]
  },
  {
   "cell_type": "code",
   "execution_count": 17,
   "id": "abdb8417-c5dc-44bc-9bee-2e059d162699",
   "metadata": {},
   "outputs": [],
   "source": [
    "system_prompt = \"You are an assistant that analyzes the contents of a pdf file \\\n",
    "and provides a short summary, ignoring text that might be useless to be part of the summary. \\\n",
    "Respond in markdown.\""
   ]
  },
  {
   "cell_type": "code",
   "execution_count": 27,
   "id": "f0275b1b-7cfe-4f9d-abfa-7650d378da0c",
   "metadata": {},
   "outputs": [],
   "source": [
    "def user_prompt_for(text):\n",
    "    user_prompt = \"please provide a short summary of this website in markdown format.\\n\\n\"\n",
    "    user_prompt += text\n",
    "    return user_prompt"
   ]
  },
  {
   "cell_type": "markdown",
   "id": "ea211b5f-28e1-4a86-8e52-c0b7677cadcc",
   "metadata": {},
   "source": [
    "## Messages\n",
    "\n",
    "The API from OpenAI expects to receive messages in a particular structure.\n",
    "Many of the other APIs share this structure:\n",
    "\n",
    "```\n",
    "[\n",
    "    {\"role\": \"system\", \"content\": \"system message goes here\"},\n",
    "    {\"role\": \"user\", \"content\": \"user message goes here\"}\n",
    "]"
   ]
  },
  {
   "cell_type": "code",
   "execution_count": 19,
   "id": "0134dfa4-8299-48b5-b444-f2a8c3403c88",
   "metadata": {},
   "outputs": [],
   "source": [
    "def messages_for(pdf_path):\n",
    "    text_content = extract_text_from_pdf(pdf_path)\n",
    "\n",
    "    return [\n",
    "        {\"role\": \"system\", \"content\": system_prompt},\n",
    "        {\"role\": \"user\", \"content\": user_prompt_for(text_content)}\n",
    "    ]"
   ]
  },
  {
   "cell_type": "markdown",
   "id": "16f49d46-bf55-4c3e-928f-68fc0bf715b0",
   "metadata": {},
   "source": [
    "## Time to bring it together - the API for OpenAI is very simple!"
   ]
  },
  {
   "cell_type": "code",
   "execution_count": 34,
   "id": "905b9919-aba7-45b5-ae65-81b3d1d78e34",
   "metadata": {},
   "outputs": [],
   "source": [
    "def summarize(pdf_path):\n",
    "    response = openai.chat.completions.create(\n",
    "        model = \"gpt-4o-mini\",\n",
    "        messages = messages_for(pdf_path)\n",
    "    )\n",
    "    return response.choices[0].message.content"
   ]
  },
  {
   "cell_type": "code",
   "execution_count": 35,
   "id": "05e38d41-dfa4-4b20-9c96-c46ea75d9fb5",
   "metadata": {},
   "outputs": [
    {
     "data": {
      "text/plain": [
       "'```markdown\\n# Summary of Flight Itinerary\\n\\n## Passenger\\n- **Name:** Daniel Juan Garbosa\\n- **Booking Reference:** SWEHPV\\n- **Date of Booking:** 18 September 2024\\n\\n---\\n\\n## Flights\\n\\n### Outbound Journey\\n1. **Flight QR 933** \\n   - **Airline:** Qatar Airways\\n   - **Departure:** Manila (Ninoy Aquino Intl), Terminal 3, 02 Nov 2024, 18:30\\n   - **Arrival:** Doha (Hamad International), 02 Nov 2024, 23:30\\n   - **Duration:** 10:00\\n   - **Baggage Allowance:** 30kg\\n   - **Meal:** Included\\n   - **Aircraft:** Boeing 777-300ER\\n\\n2. **Flight QR 215**\\n   - **Airline:** Qatar Airways\\n   - **Departure:** Doha (Hamad International), 03 Nov 2024, 02:40\\n   - **Arrival:** Zagreb (Franjo Tudman), 03 Nov 2024, 06:45\\n   - **Duration:** 06:05\\n   - **Baggage Allowance:** 30kg\\n   - **Meal:** Included\\n   - **Aircraft:** Airbus A320\\n\\n---\\n\\n### Return Journey\\n3. **Flight QR 218**\\n   - **Airline:** Qatar Airways\\n   - **Departure:** Zagreb (Franjo Tudman), 16 Nov 2024, 15:05\\n   - **Arrival:** Doha (Hamad International), 16 Nov 2024, 22:30\\n   - **Duration:** 05:25\\n   - **Baggage Allowance:** 25kg\\n   - **Meal:** Included\\n   - **Aircraft:** Airbus A320\\n\\n4. **Flight QR 932**\\n   - **Airline:** Qatar Airways\\n   - **Departure:** Doha (Hamad International), 17 Nov 2024, 02:40\\n   - **Arrival:** Manila (Ninoy Aquino Intl), Terminal 3, 17 Nov 2024, 16:05\\n   - **Duration:** 08:25\\n   - **Baggage Allowance:** 25kg\\n   - **Meal:** Included\\n   - **Aircraft:** Boeing 777-300ER\\n\\n---\\n\\n## Additional Information\\n- **CO2 Emissions:** Average estimated at 1390.02 kg/person.\\n- **Check-in Times:** 90 minutes for domestic flights and 120 minutes for international flights.\\n- **Important Notice:** The electronic ticket is non-transferable and should be retained for travel.\\n\\n---\\n\\n## Contact Information\\n- **Agency:** Ulix d.o.o.\\n- **Email:** aviokarte@aviokarte.hr\\n- **Phone:** +385 1 6329 100\\n- **Fax:** +385 1 6154 092\\n\\n---\\n\\n**Wishing you a pleasant journey!**\\n```\\n'"
      ]
     },
     "execution_count": 35,
     "metadata": {},
     "output_type": "execute_result"
    }
   ],
   "source": [
    "summarize(r'C:\\Users\\Daniel\\Desktop\\Study\\llm_engineering\\input\\input.pdf')"
   ]
  },
  {
   "cell_type": "code",
   "execution_count": 36,
   "id": "3d926d59-450e-4609-92ba-2d6f244f1342",
   "metadata": {},
   "outputs": [],
   "source": [
    "def display_summary(pdf_path):\n",
    "    summary = summarize(pdf_path)\n",
    "    display(Markdown(summary))"
   ]
  },
  {
   "cell_type": "code",
   "execution_count": 38,
   "id": "3018853a-445f-41ff-9560-d925d1774b2f",
   "metadata": {},
   "outputs": [
    {
     "data": {
      "text/markdown": [
       "```markdown\n",
       "## Flight Booking Summary\n",
       "\n",
       "**Booking Reference:** SWEHPV  \n",
       "**Traveler:** GARBOSA/DANIEL JUAN MR  \n",
       "**Date of Travel:** 18 September 2024  \n",
       "**Travel Agency:** Avio Karte, Zagreb, Croatia  \n",
       "\n",
       "### Itinerary\n",
       "\n",
       "1. **Flight QR 933**\n",
       "   - **Departure:** Manila (Ninoy Aquino Intl), Terminal 3  \n",
       "   - **Date:** 02 November 2024, 18:30  \n",
       "   - **Arrival:** Doha (Hamad International), 23:30  \n",
       "   - **Duration:** 10:00  \n",
       "   - **Baggage Allowance:** 30 kg  \n",
       "   - **Meal Provided:** Yes  \n",
       "   - **Aircraft:** Boeing 777-300ER  \n",
       "\n",
       "2. **Flight QR 215**\n",
       "   - **Departure:** Doha (Hamad International)  \n",
       "   - **Date:** 03 November 2024, 02:40  \n",
       "   - **Arrival:** Zagreb (Franjo Tudman), 06:45  \n",
       "   - **Duration:** 06:05  \n",
       "   - **Baggage Allowance:** 30 kg  \n",
       "   - **Meal Provided:** Yes  \n",
       "   - **Aircraft:** Airbus A320   \n",
       "\n",
       "3. **Flight QR 218**\n",
       "   - **Departure:** Zagreb (Franjo Tudman)  \n",
       "   - **Date:** 16 November 2024, 15:05  \n",
       "   - **Arrival:** Doha (Hamad International), 22:30  \n",
       "   - **Duration:** 05:25  \n",
       "   - **Baggage Allowance:** 25 kg  \n",
       "   - **Meal Provided:** Yes  \n",
       "   - **Aircraft:** Airbus A320  \n",
       "\n",
       "4. **Flight QR 932**\n",
       "   - **Departure:** Doha (Hamad International)  \n",
       "   - **Date:** 17 November 2024, 02:40  \n",
       "   - **Arrival:** Manila (Ninoy Aquino Intl), Terminal 3, 16:05  \n",
       "   - **Duration:** 08:25  \n",
       "   - **Baggage Allowance:** 25 kg  \n",
       "   - **Meal Provided:** Yes  \n",
       "   - **Aircraft:** Boeing 777-300ER   \n",
       "\n",
       "### Environmental Information\n",
       "- **Calculated Average CO2 Emissions:** 1390.02 kg/person\n",
       "\n",
       "### Important Notes\n",
       "- This is your electronic ticket; please keep it for travel.\n",
       "- The airplane ticket is a non-transferable document.\n",
       "- Ensure to collect information regarding necessary travel documents for your destination.\n",
       "- **Check-in Times:** 90 minutes for domestic and 120 minutes for international flights.\n",
       "- Travel agency 'Ulix' wishes you a pleasant journey!\n",
       "```"
      ],
      "text/plain": [
       "<IPython.core.display.Markdown object>"
      ]
     },
     "metadata": {},
     "output_type": "display_data"
    }
   ],
   "source": [
    "display_summary(r'C:\\Users\\Daniel\\Desktop\\Study\\llm_engineering\\input\\input.pdf')"
   ]
  },
  {
   "cell_type": "code",
   "execution_count": 39,
   "id": "45d83403-a24c-44b5-84ac-961449b4008f",
   "metadata": {},
   "outputs": [
    {
     "data": {
      "text/markdown": [
       "# Summary of the Safe Motherhood Survey (SMS) Project Document\n",
       "\n",
       "## Introduction\n",
       "- The document discusses maternal health issues, emphasizing that approximately 500,000 maternal deaths occur globally each year, primarily in less developed countries.\n",
       "- It highlights the need for improved measurement of maternal morbidity alongside mortality and outlines the objectives of the Safe Motherhood Survey (SMS) Project initiated in 1992, focusing on women's reproductive health.\n",
       "\n",
       "## Philippine Context\n",
       "- The Philippines, an archipelago of around 7,100 islands, has a diverse geography impacting its climate and development.\n",
       "- The document discusses the political and economic history of the Philippines, including developments under the Ramos administration aimed at economic recovery and social reforms.\n",
       "\n",
       "## Population Growth\n",
       "- As of the 1990 census, the population was 60.7 million, with a growth rate of 2.35% over the previous decade. The total fertility rate showed a decline, aiming for further reductions through a government program.\n",
       "\n",
       "## Health Policies and Programs\n",
       "- The Department of Health aims to ensure equitable access to healthcare. Important health initiatives include family planning, maternal health, and child nutrition.\n",
       "\n",
       "## Objectives of the SMS\n",
       "- The SMS aims to gather data on:\n",
       "  - Serious health problems in pregnant women.\n",
       "  - Utilization of antenatal and postnatal care.\n",
       "  - Chronic reproductive morbidities.\n",
       "  - Domestic violence prevalence among women.\n",
       "  - Nutritional status of ever-pregnant women.\n",
       "\n",
       "## Methodology\n",
       "- The survey was implemented by the National Statistics Office with support from the Department of Health and funding from organizations like the Rockefeller Foundation and USAID.\n",
       "- Describes a two-stage sampling method for data collection from a nationally representative sample of ever-pregnant women.\n",
       "\n",
       "## Data Collection and Processing\n",
       "- Fieldwork involved trained teams and strict data processing protocols to ensure the reliability of the collected information.\n",
       "- The data processing utilized the Integrated System for Survey Analysis (ISSA) for efficient management and analysis.\n",
       "\n",
       "This document serves to support further research and policymaking related to maternal health in the Philippines, emphasizing the importance of quality data in improving health outcomes."
      ],
      "text/plain": [
       "<IPython.core.display.Markdown object>"
      ]
     },
     "metadata": {},
     "output_type": "display_data"
    }
   ],
   "source": [
    "display_summary(r'C:\\Users\\Daniel\\Desktop\\Study\\llm_engineering\\input\\01chapter01.pdf')"
   ]
  },
  {
   "cell_type": "code",
   "execution_count": null,
   "id": "15207fa9-3951-424f-8df9-2c98985a8c73",
   "metadata": {},
   "outputs": [],
   "source": []
  }
 ],
 "metadata": {
  "kernelspec": {
   "display_name": "Python 3 (ipykernel)",
   "language": "python",
   "name": "python3"
  },
  "language_info": {
   "codemirror_mode": {
    "name": "ipython",
    "version": 3
   },
   "file_extension": ".py",
   "mimetype": "text/x-python",
   "name": "python",
   "nbconvert_exporter": "python",
   "pygments_lexer": "ipython3",
   "version": "3.11.10"
  }
 },
 "nbformat": 4,
 "nbformat_minor": 5
}
