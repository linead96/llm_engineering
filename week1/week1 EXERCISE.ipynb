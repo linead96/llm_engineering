{
 "cells": [
  {
   "cell_type": "markdown",
   "id": "fe12c203-e6a6-452c-a655-afb8a03a4ff5",
   "metadata": {},
   "source": [
    "# End of week 1 exercise\n",
    "\n",
    "To demonstrate your familiarity with OpenAI API, and also Ollama, build a tool that takes a technical question,  \n",
    "and responds with an explanation. This is a tool that you will be able to use yourself during the course!"
   ]
  },
  {
   "cell_type": "code",
   "execution_count": 1,
   "id": "c1070317-3ed9-4659-abe3-828943230e03",
   "metadata": {},
   "outputs": [],
   "source": [
    "# imports\n",
    "\n",
    "from dotenv import load_dotenv\n",
    "from IPython.display import Markdown, display, update_display\n",
    "from openai import OpenAI\n",
    "import ollama"
   ]
  },
  {
   "cell_type": "code",
   "execution_count": 2,
   "id": "4a456906-915a-4bfd-bb9d-57e505c5093f",
   "metadata": {},
   "outputs": [],
   "source": [
    "# constants\n",
    "\n",
    "MODEL_GPT = 'gpt-4o-mini'\n",
    "MODEL_LLAMA = 'llama3.2'"
   ]
  },
  {
   "cell_type": "code",
   "execution_count": 3,
   "id": "a8d7923c-5f28-4c30-8556-342d7c8497c1",
   "metadata": {},
   "outputs": [],
   "source": [
    "# set up environment\n",
    "\n",
    "load_dotenv()\n",
    "openai = OpenAI()"
   ]
  },
  {
   "cell_type": "code",
   "execution_count": 4,
   "id": "3f0d0137-52b0-47a8-81a8-11a90a010798",
   "metadata": {},
   "outputs": [],
   "source": [
    "# here is the question; type over this to ask something new\n",
    "\n",
    "question = \"\"\"\n",
    "Please explain what this code does and why:\n",
    "yield from {book.get(\"author\") for book in books if book.get(\"author\")}\n",
    "\"\"\""
   ]
  },
  {
   "cell_type": "code",
   "execution_count": 5,
   "id": "a02d6b31-361e-4e2b-a0c8-98aa04c96322",
   "metadata": {},
   "outputs": [],
   "source": [
    "#prompts\n",
    "\n",
    "system_prompt = \"You are a helpful technical tutor who answers question about python code, software engineering, data science and LLMs\"\n",
    "user_prompt = \"Please give a detailed explanation to the following question: \" + question"
   ]
  },
  {
   "cell_type": "code",
   "execution_count": 6,
   "id": "16df17eb-2227-4434-8256-5d5f57b8766f",
   "metadata": {},
   "outputs": [],
   "source": [
    "#messages\n",
    "\n",
    "messages = [\n",
    "    {\"role\": \"system\", \"content\": system_prompt},\n",
    "    {\"role\": \"user\", \"content\": user_prompt}\n",
    "]"
   ]
  },
  {
   "cell_type": "code",
   "execution_count": 7,
   "id": "60ce7000-a4a5-4cce-a261-e75ef45063b4",
   "metadata": {},
   "outputs": [
    {
     "data": {
      "text/markdown": [
       "This piece of Python code is a generator expression that utilizes the `yield from` syntax in conjunction with a set comprehension. Let's break it down step-by-step to explain what it does and why it is structured this way.\n",
       "\n",
       "### Breakdown of the Code:\n",
       "\n",
       "1. **`{book.get(\"author\") for book in books if book.get(\"author\")}`**: \n",
       "   - This is a **set comprehension**.\n",
       "   - `books` is expected to be an iterable (like a list) of dictionaries.\n",
       "   - For each `book` in `books`, it attempts to retrieve the value associated with the key `\"author\"` using `book.get(\"author\")`.\n",
       "   - The expression `if book.get(\"author\")` filters the results. It will only include the author's name in the resulting set if `book.get(\"author\")` returns a truthy value (i.e., not `None`, empty string, `False`, etc.).\n",
       "   - The entire comprehension creates a set of unique author names from the list of books, effectively filtering out any books that do not have an `\"author\"` key or where the author's name is falsy.\n",
       "\n",
       "2. **`yield from`**:\n",
       "   - This keyword is used in a generator function to yield all values from another iterable. Instead of yielding one item at a time, `yield from` will yield all the items from the iterable produced by the set comprehension.\n",
       "   - It is particularly useful when you want to delegate part of the generator to another iterable, making the code cleaner and easier to manage.\n",
       "\n",
       "### Complete Function Context:\n",
       "For the code snippet to be meaningful and work as intended, it should be inside a generator function. Here is a simplified example of how it might look:\n",
       "\n",
       "`python\n",
       "def get_authors(books):\n",
       "    yield from {book.get(\"author\") for book in books if book.get(\"author\")}\n",
       "`\n",
       "\n",
       "### What the Code Does:\n",
       "- This code defines a generator function named `get_authors` that takes a list of `books`.\n",
       "- It iterates through each `book`, retrieves the `\"author\"` if it exists, and constructs a set of unique authors.\n",
       "- By using `yield from`, it then yields each author name from this set one-by-one when the generator is requested, which means you can iterate over this generator to get each unique author's name.\n",
       "\n",
       "### Why Use This Code:\n",
       "- **Uniqueness**: The use of a set comprehension ensures that every author's name in the result is unique. If a book has the same author as another book, that author will only appear once in the output.\n",
       "- **Efficient Memory Use**: By using a generator, the authors' names are yielded on-the-fly, which is more memory efficient than returning a list or a set of authors at once, especially when dealing with large datasets.\n",
       "- **Readability**: Using `yield from` along with a comprehension makes the code concise and easier to read, following Python's philosophy of clarity.\n",
       "\n",
       "### Example Usage:\n",
       "Let’s assume you have the following list of books:\n",
       "\n",
       "`python\n",
       "books = [\n",
       "    {\"title\": \"Book 1\", \"author\": \"Author A\"},\n",
       "    {\"title\": \"Book 2\", \"author\": \"Author B\"},\n",
       "    {\"title\": \"Book 3\", \"author\": None},\n",
       "    {\"title\": \"Book 4\", \"author\": \"Author A\"},\n",
       "    {\"title\": \"Book 5\", \"author\": \"\"},\n",
       "]\n",
       "`\n",
       "\n",
       "If you call `get_authors(books)`, the output will yield:\n",
       "`\n",
       "'Author A'\n",
       "'Author B'\n",
       "`\n",
       "\n",
       "In summary, this code is designed to efficiently extract and yield unique author names from a collection of book records, providing an iterable generator for further use."
      ],
      "text/plain": [
       "<IPython.core.display.Markdown object>"
      ]
     },
     "metadata": {},
     "output_type": "display_data"
    }
   ],
   "source": [
    "# Get gpt-4o-mini to answer, with streaming\n",
    "\n",
    "stream = openai.chat.completions.create(model=MODEL_GPT, messages=messages, stream = True)\n",
    "\n",
    "response = \"\"\n",
    "display_handle = display(Markdown(\"\"), display_id=True)\n",
    "for chunk in stream:\n",
    "    response += chunk.choices[0].delta.content or ''\n",
    "    response = response.replace (\"``\",\"\").replace(\"markdown\",\"\")\n",
    "    update_display(Markdown(response), display_id=display_handle.display_id)\n"
   ]
  },
  {
   "cell_type": "code",
   "execution_count": 8,
   "id": "8f7c8ea8-4082-4ad0-8751-3301adcf6538",
   "metadata": {},
   "outputs": [
    {
     "data": {
      "text/markdown": [
       "**Code Explanation**\n",
       "\n",
       "The given code is using Python's `yield from` syntax, which was introduced in Python 3.3. It's a powerful tool that allows us to delegate iteration to another iterable.\n",
       "\n",
       "Here's the breakdown:\n",
       "\n",
       "1. `{book.get(\"author\") for book in books if book.get(\"author\")}`: This is an expression that generates an iterable (a list-like object). The `for` loop iterates over the `books` variable, and inside the loop:\n",
       "\t* `book.get(\"author\")`: This retrieves the value associated with the key `\"author\"` from each dictionary (`book`) in the `books` collection.\n",
       "\t* `if book.get(\"author\")`: This filters out any books that don't have an `\"author\"` key.\n",
       "\n",
       "So, the expression generates a list of authors, where each author is obtained by looking up the `\"author\"` key in the corresponding book dictionary.\n",
       "\n",
       "2. `yield from ...`: This keyword tells Python to delegate iteration to the inner iterable (`{book.get(\"author\") for book in books if book.get(\"author\")}`).\n",
       "\n",
       "In essence, the outer expression is an iterator that yields each author one at a time. When we iterate over this iterator, it will yield each author in the order they appear in the `books` collection.\n",
       "\n",
       "**Why is this code useful?**\n",
       "\n",
       "This code is useful when you need to process data from multiple sources (in this case, books) and extract specific information (authors). By using `yield from`, we can easily create an iterator that delegates iteration to another iterable, making it easier to handle complex data structures.\n",
       "\n",
       "Here's a simple example to illustrate the use of `yield from`:\n",
       "```python\n",
       "def process_books(books):\n",
       "    authors = yield from {book.get(\"author\") for book in books if book.get(\"author\")}\n",
       "    print(f\"Processing authors: {authors}\")\n",
       "\n",
       "# Usage:\n",
       "books = [\n",
       "    {\"title\": \"Book 1\", \"author\": \"Author A\"},\n",
       "    {\"title\": \"Book 2\", \"author\": \"\"},\n",
       "    {\"title\": \"Book 3\", \"author\": \"Author C\"}\n",
       "]\n",
       "\n",
       "process_books(books)\n",
       "```\n",
       "In this example, the `process_books` generator yields a list of authors from the input `books` collection. The `yield from` syntax makes it easy to delegate iteration to the inner iterable.\n",
       "\n",
       "**Alternative approach**\n",
       "\n",
       "If you prefer not to use `yield from`, you can achieve similar results using a loop with an `if-else` statement:\n",
       "```python\n",
       "authors = []\n",
       "for book in books:\n",
       "    if \"author\" in book:\n",
       "        authors.append(book[\"author\"])\n",
       "return authors\n",
       "```\n",
       "However, the `yield from` approach is generally more concise and efficient."
      ],
      "text/plain": [
       "<IPython.core.display.Markdown object>"
      ]
     },
     "metadata": {},
     "output_type": "display_data"
    }
   ],
   "source": [
    "# Get Llama 3.2 to answer\n",
    "\n",
    "response = ollama.chat(model=MODEL_LLAMA,messages=messages)\n",
    "reply = response['message']['content']\n",
    "display(Markdown(reply))"
   ]
  },
  {
   "cell_type": "code",
   "execution_count": null,
   "id": "bdfe89e6-dd1e-48fb-a23d-34ae63411ff3",
   "metadata": {},
   "outputs": [],
   "source": []
  }
 ],
 "metadata": {
  "kernelspec": {
   "display_name": "Python 3 (ipykernel)",
   "language": "python",
   "name": "python3"
  },
  "language_info": {
   "codemirror_mode": {
    "name": "ipython",
    "version": 3
   },
   "file_extension": ".py",
   "mimetype": "text/x-python",
   "name": "python",
   "nbconvert_exporter": "python",
   "pygments_lexer": "ipython3",
   "version": "3.11.13"
  }
 },
 "nbformat": 4,
 "nbformat_minor": 5
}
